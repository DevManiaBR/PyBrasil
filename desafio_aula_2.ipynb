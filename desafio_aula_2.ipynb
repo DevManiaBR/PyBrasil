{
  "nbformat": 4,
  "nbformat_minor": 0,
  "metadata": {
    "colab": {
      "name": "desafio aula 2.ipynb",
      "provenance": [],
      "authorship_tag": "ABX9TyNu3BlwdJik89vlaj3rvMCN",
      "include_colab_link": true
    },
    "kernelspec": {
      "name": "python3",
      "display_name": "Python 3"
    },
    "language_info": {
      "name": "python"
    }
  },
  "cells": [
    {
      "cell_type": "markdown",
      "metadata": {
        "id": "view-in-github",
        "colab_type": "text"
      },
      "source": [
        "<a href=\"https://colab.research.google.com/github/DevManiaBR/PyBrasil/blob/main/desafio_aula_2.ipynb\" target=\"_parent\"><img src=\"https://colab.research.google.com/assets/colab-badge.svg\" alt=\"Open In Colab\"/></a>"
      ]
    },
    {
      "cell_type": "code",
      "metadata": {
        "id": "YN12MMinb-WQ"
      },
      "source": [
        ""
      ],
      "execution_count": null,
      "outputs": []
    },
    {
      "cell_type": "markdown",
      "metadata": {
        "id": "fmeok_wXcLO3"
      },
      "source": [
        "Desafio Dev aula 2"
      ]
    },
    {
      "cell_type": "markdown",
      "metadata": {
        "id": "PyiIiMb8cQyh"
      },
      "source": [
        "#4\n",
        " resolveremos desafios da lista de exercicios https://wiki.python.org.br/ListaDeExercicios"
      ]
    },
    {
      "cell_type": "code",
      "metadata": {
        "id": "hRejbnDzcNcw"
      },
      "source": [
        ""
      ],
      "execution_count": null,
      "outputs": []
    },
    {
      "cell_type": "markdown",
      "metadata": {
        "id": "BtleWj24cjBY"
      },
      "source": [
        "#estrutura sequencial\n",
        " Exercicio 1            Faça um Programa que mostre a mensagem \"Alo mundo\" na tela.\n",
        " \n",
        " \n"
      ]
    },
    {
      "cell_type": "code",
      "metadata": {
        "id": "wlbU1WllcvcR"
      },
      "source": [
        "print('Hello World')"
      ],
      "execution_count": null,
      "outputs": []
    },
    {
      "cell_type": "code",
      "metadata": {
        "colab": {
          "base_uri": "https://localhost:8080/"
        },
        "id": "RSly003RdDDw",
        "outputId": "1ad6e03d-fd8b-40b4-b92c-665f0415db33"
      },
      "source": [
        " type('Hello World')"
      ],
      "execution_count": null,
      "outputs": [
        {
          "output_type": "execute_result",
          "data": {
            "text/plain": [
              "str"
            ]
          },
          "metadata": {},
          "execution_count": 24
        }
      ]
    },
    {
      "cell_type": "code",
      "metadata": {
        "id": "bQLYoReYdJFc"
      },
      "source": [
        ""
      ],
      "execution_count": null,
      "outputs": []
    },
    {
      "cell_type": "markdown",
      "metadata": {
        "id": "OFlk4aL6dOiq"
      },
      "source": [
        "Exercicio 2\n",
        "Faça um Programa que peça um número e então mostre a mensagem O número informado foi [número]"
      ]
    },
    {
      "cell_type": "code",
      "metadata": {
        "id": "gJMtdoTEdRSr",
        "colab": {
          "base_uri": "https://localhost:8080/",
          "height": 53
        },
        "outputId": "b0e61c34-467b-419f-ef02-3411f2a62f92"
      },
      "source": [
        "input ('Deigite um numero: ')"
      ],
      "execution_count": 25,
      "outputs": [
        {
          "name": "stdout",
          "output_type": "stream",
          "text": [
            "Deigite um numero: 2\n"
          ]
        },
        {
          "output_type": "execute_result",
          "data": {
            "application/vnd.google.colaboratory.intrinsic+json": {
              "type": "string"
            },
            "text/plain": [
              "'2'"
            ]
          },
          "metadata": {},
          "execution_count": 25
        }
      ]
    },
    {
      "cell_type": "code",
      "metadata": {
        "id": "qwEi2j-HdddF",
        "colab": {
          "base_uri": "https://localhost:8080/",
          "height": 200
        },
        "outputId": "ead6a80f-b97a-42c0-f6b8-084e3ec27131"
      },
      "source": [
        "número = input('Digite sua idade: ')\n",
        "print(f'A idade é {número}')"
      ],
      "execution_count": 27,
      "outputs": [
        {
          "name": "stdout",
          "output_type": "stream",
          "text": [
            "Digite sua idade: 27\n"
          ]
        },
        {
          "output_type": "error",
          "ename": "TypeError",
          "evalue": "ignored",
          "traceback": [
            "\u001b[0;31m---------------------------------------------------------------------------\u001b[0m",
            "\u001b[0;31mTypeError\u001b[0m                                 Traceback (most recent call last)",
            "\u001b[0;32m<ipython-input-27-bc41c1c42b70>\u001b[0m in \u001b[0;36m<module>\u001b[0;34m()\u001b[0m\n\u001b[1;32m      1\u001b[0m \u001b[0mnúmero\u001b[0m \u001b[0;34m=\u001b[0m \u001b[0minput\u001b[0m\u001b[0;34m(\u001b[0m\u001b[0;34m'Digite sua idade: '\u001b[0m\u001b[0;34m)\u001b[0m\u001b[0;34m\u001b[0m\u001b[0;34m\u001b[0m\u001b[0m\n\u001b[0;32m----> 2\u001b[0;31m \u001b[0mprint\u001b[0m\u001b[0;34m(\u001b[0m\u001b[0;34mf'A idade é {número}'\u001b[0m\u001b[0;34m)\u001b[0m\u001b[0;34m\u001b[0m\u001b[0;34m\u001b[0m\u001b[0m\n\u001b[0m",
            "\u001b[0;31mTypeError\u001b[0m: 'str' object is not callable"
          ]
        }
      ]
    },
    {
      "cell_type": "markdown",
      "metadata": {
        "id": "rBDZpKD-ecEU"
      },
      "source": [
        "Exercicio 3\n",
        "Faça um Programa que peça dois números e imprima a soma"
      ]
    },
    {
      "cell_type": "code",
      "metadata": {
        "id": "xGEfRbzvee41"
      },
      "source": [
        "number_1 = int(input('press number: '))\n",
        "number_2 = int(input('press other number: '))\n",
        "soma = number_1 + number_2\n",
        "print(f'a soma dos numeros é {soma}')"
      ],
      "execution_count": null,
      "outputs": []
    },
    {
      "cell_type": "code",
      "metadata": {
        "id": "KKMKFIJ4eJ06"
      },
      "source": [
        ""
      ],
      "execution_count": null,
      "outputs": []
    },
    {
      "cell_type": "markdown",
      "metadata": {
        "id": "THj-SSy4ga6s"
      },
      "source": [
        ""
      ]
    },
    {
      "cell_type": "code",
      "metadata": {
        "id": "-aCemPaDgzfC"
      },
      "source": [
        ""
      ],
      "execution_count": null,
      "outputs": []
    },
    {
      "cell_type": "markdown",
      "metadata": {
        "id": "Dnm6dToYg1Z_"
      },
      "source": [
        "# Exercicio 4 \n",
        "Faça um Programa que peça as 4 notas bimestrais e mostre a média."
      ]
    },
    {
      "cell_type": "code",
      "metadata": {
        "colab": {
          "base_uri": "https://localhost:8080/"
        },
        "id": "SySNtCrBjp8d",
        "outputId": "690f0760-2137-4d37-f834-8e495b397f4e"
      },
      "source": [
        "trimestre_1 = int(input('Media Primeiro Trimestre: '))\n",
        "trimestre_2 = int(input('Media Segundo Trimestre: '))\n",
        "trimestre_3 = int(input('Media Terceiro Trimestre: '))\n",
        "trimestre_4 = int(input('Media Quarto Trimestre: '))\n",
        "soma = trimestre_1 + trimestre_2 + trimestre_3 + trimestre_4\n",
        "print(f'A media anual deste aluno é {soma}')"
      ],
      "execution_count": null,
      "outputs": [
        {
          "output_type": "stream",
          "name": "stdout",
          "text": [
            "Media Primeiro Trimestre: 7\n",
            "Media Segundo Trimestre: 5\n",
            "Media Terceiro Trimestre: 6\n",
            "Media Quarto Trimestre: 8\n",
            "A media anual deste aluno é 26\n"
          ]
        }
      ]
    },
    {
      "cell_type": "code",
      "metadata": {
        "colab": {
          "base_uri": "https://localhost:8080/"
        },
        "id": "Vf3DqLC5kDAd",
        "outputId": "62661b92-1d06-4787-e451-1bfccf62002c"
      },
      "source": [
        "trimestre_1 = int(input('Media Primeiro Trimestre: '))\n",
        "trimestre_2 = int(input('Media Segundo Trimestre: '))\n",
        "trimestre_3 = int(input('Media Terceiro Trimestre: '))\n",
        "trimestre_4 = int(input('Media Quarto Trimestre: '))\n",
        "soma = trimestre_1 + trimestre_2 + trimestre_3 + trimestre_4\n",
        "media = soma / 4\n",
        "print(f'A media anual deste aluno é {media}')"
      ],
      "execution_count": null,
      "outputs": [
        {
          "output_type": "stream",
          "name": "stdout",
          "text": [
            "Media Primeiro Trimestre: 4\n",
            "Media Segundo Trimestre: 5\n",
            "Media Terceiro Trimestre: 8\n",
            "Media Quarto Trimestre: 9\n",
            "A media anual deste aluno é 5.2\n"
          ]
        }
      ]
    },
    {
      "cell_type": "markdown",
      "metadata": {
        "id": "c9dDL4afktve"
      },
      "source": [
        "# exercicio 5\n",
        "Faça um Programa que converta metros para centímetros."
      ]
    },
    {
      "cell_type": "code",
      "metadata": {
        "colab": {
          "base_uri": "https://localhost:8080/",
          "height": 252
        },
        "id": "EhrRfllAkxIk",
        "outputId": "9e34736d-9e30-4493-9169-57e81a526ff0"
      },
      "source": [
        "metros = float(input('Qual é a medida em Metros?: '))\n",
        "centimetro = (metros * 100)\n",
        "if metros == 1:\n",
        "  print(f'{metros} Metro corresponde à {centimetro} Centrimetros')\n",
        "elif metros < 1:\n",
        "  print(f'{metros} Metros Corresponde à {centimetro} Centimetros')\n",
        "elif metros > 1:\n",
        "  print(f'{metro} Metros Corresponde à {centimetro} Centimetros')"
      ],
      "execution_count": null,
      "outputs": [
        {
          "name": "stdout",
          "output_type": "stream",
          "text": [
            "Qual é a medida em Metros?: 1\n"
          ]
        },
        {
          "output_type": "error",
          "ename": "TypeError",
          "evalue": "ignored",
          "traceback": [
            "\u001b[0;31m---------------------------------------------------------------------------\u001b[0m",
            "\u001b[0;31mTypeError\u001b[0m                                 Traceback (most recent call last)",
            "\u001b[0;32m<ipython-input-22-2e1dc15347b8>\u001b[0m in \u001b[0;36m<module>\u001b[0;34m()\u001b[0m\n\u001b[1;32m      2\u001b[0m \u001b[0mcentimetro\u001b[0m \u001b[0;34m=\u001b[0m \u001b[0;34m(\u001b[0m\u001b[0mmetros\u001b[0m \u001b[0;34m*\u001b[0m \u001b[0;36m100\u001b[0m\u001b[0;34m)\u001b[0m\u001b[0;34m\u001b[0m\u001b[0;34m\u001b[0m\u001b[0m\n\u001b[1;32m      3\u001b[0m \u001b[0;32mif\u001b[0m \u001b[0mmetros\u001b[0m \u001b[0;34m==\u001b[0m \u001b[0;36m1\u001b[0m\u001b[0;34m:\u001b[0m\u001b[0;34m\u001b[0m\u001b[0;34m\u001b[0m\u001b[0m\n\u001b[0;32m----> 4\u001b[0;31m   \u001b[0mprint\u001b[0m\u001b[0;34m(\u001b[0m\u001b[0;34mf'{metros} Metro corresponde à {centimetro} Centrimetros'\u001b[0m\u001b[0;34m)\u001b[0m\u001b[0;34m\u001b[0m\u001b[0;34m\u001b[0m\u001b[0m\n\u001b[0m\u001b[1;32m      5\u001b[0m \u001b[0;32melif\u001b[0m \u001b[0mmetros\u001b[0m \u001b[0;34m<\u001b[0m \u001b[0;36m1\u001b[0m\u001b[0;34m:\u001b[0m\u001b[0;34m\u001b[0m\u001b[0;34m\u001b[0m\u001b[0m\n\u001b[1;32m      6\u001b[0m   \u001b[0mprint\u001b[0m\u001b[0;34m(\u001b[0m\u001b[0;34mf'{metros} Metros Corresponde à {centimetro} Centimetros'\u001b[0m\u001b[0;34m)\u001b[0m\u001b[0;34m\u001b[0m\u001b[0;34m\u001b[0m\u001b[0m\n",
            "\u001b[0;31mTypeError\u001b[0m: 'str' object is not callable"
          ]
        }
      ]
    },
    {
      "cell_type": "code",
      "metadata": {
        "id": "SdV0I0aFjtYN"
      },
      "source": [
        ""
      ],
      "execution_count": null,
      "outputs": []
    }
  ]
}