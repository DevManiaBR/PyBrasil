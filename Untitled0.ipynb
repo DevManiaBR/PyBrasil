{
  "nbformat": 4,
  "nbformat_minor": 0,
  "metadata": {
    "colab": {
      "name": "Untitled0.ipynb",
      "provenance": [],
      "include_colab_link": true
    },
    "kernelspec": {
      "name": "python3",
      "display_name": "Python 3"
    },
    "language_info": {
      "name": "python"
    }
  },
  "cells": [
    {
      "cell_type": "markdown",
      "metadata": {
        "id": "view-in-github",
        "colab_type": "text"
      },
      "source": [
        "<a href=\"https://colab.research.google.com/github/DevManiaBR/PyBrasil/blob/main/Untitled0.ipynb\" target=\"_parent\"><img src=\"https://colab.research.google.com/assets/colab-badge.svg\" alt=\"Open In Colab\"/></a>"
      ]
    },
    {
      "cell_type": "code",
      "execution_count": null,
      "metadata": {
        "id": "TZPsyFBmGH8I",
        "colab": {
          "base_uri": "https://localhost:8080/"
        },
        "outputId": "99cab1e4-e69d-4f73-83f9-b0af9d85bd8d"
      },
      "outputs": [
        {
          "output_type": "execute_result",
          "data": {
            "text/plain": [
              "23"
            ]
          },
          "metadata": {},
          "execution_count": 2
        }
      ],
      "source": [
        "\n"
      ]
    },
    {
      "cell_type": "markdown",
      "source": [
        "# Problema 17\n",
        "resolução aula 2\n"
      ],
      "metadata": {
        "id": "gBjXNVyyGJxZ"
      }
    },
    {
      "cell_type": "code",
      "source": [
        "import math\n",
        "\n",
        "area_a_ser_pintada =float(input('Digite a Area'))  #area em metros quadrados\n",
        "area_com_folga = area_a_ser_pintada * 1.1\n",
        "litros_por_metros = 6\n",
        "litros_a_serem_usados = area_com_folga / litros_por_metros\n",
        "litros_por_lata = 18\n",
        "numero_de_latas = math.ceil(litros_a_serem_usados / litros_por_lata)\n",
        "valor_com_apenas_latas = numero_de_latas * 80\n",
        "print (f'Voce deverá usar {numero_de_latas} latas de 18 litros, no valor de R$ {valor_com_apenas_latas} ')\n",
        "\n",
        "litros_por_galao = 3.6\n",
        "numero_de_galao = math.ceil(litros_a_serem_usados / litros_por_galao)\n",
        "valor_com_apenas_galao = numero_de_galao * 25\n",
        "print (f'Voce deverá usar {numero_de_galao} Galao de 3,6 litros, no valor de R$ {valor_com_apenas_galao} ')\n",
        "\n",
        "#compra de tinta otimizada por valor\n",
        "\n",
        "numero_de_latas = math.floor(litros_a_serem_usados / litros_por_lata)\n",
        "valor_de_latas = numero_de_latas * 80\n",
        "litros_faltantes = litros_a_serem_usados % litros_por_lata\n",
        "numero_de_galao = math.ceil(litros_faltantes % litros_por_galao)\n",
        "valor_com_galao = numero_de_galao * 25\n",
        "\n",
        "valor_total = valor_de_latas + valor_com_galao\n",
        "\n",
        "print (f'Voce devera usar{numero_de_latas} Latas de 18 litros mais {numero_de_galao} Galoes de 3.6 litros, no valor de R$ {valor_total}')\n"
      ],
      "metadata": {
        "id": "H3WokgeUGUgs",
        "colab": {
          "base_uri": "https://localhost:8080/"
        },
        "outputId": "19d4d76d-7fec-40fd-a874-179d2b818d5e"
      },
      "execution_count": null,
      "outputs": [
        {
          "output_type": "stream",
          "name": "stdout",
          "text": [
            "Digite a Area60\n",
            "Voce deverá usar 1 latas de 18 litros, no valor de R$ 80 \n",
            "Voce deverá usar 4 Galao de 3,6 litros, no valor de R$ 100 \n",
            "Voce devera usar0 Latas de 18 litros mais 1 Galoes de 3.6 litros, no valor de R$ 25\n"
          ]
        }
      ]
    },
    {
      "cell_type": "markdown",
      "source": [
        ""
      ],
      "metadata": {
        "id": "JWpcAu8US1eZ"
      }
    }
  ]
}